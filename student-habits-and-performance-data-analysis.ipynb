{
 "cells": [
  {
   "cell_type": "code",
   "execution_count": 1,
   "id": "eb452869",
   "metadata": {
    "_cell_guid": "b1076dfc-b9ad-4769-8c92-a6c4dae69d19",
    "_uuid": "8f2839f25d086af736a60e9eeb907d3b93b6e0e5",
    "execution": {
     "iopub.execute_input": "2025-06-26T18:23:12.504045Z",
     "iopub.status.busy": "2025-06-26T18:23:12.503734Z",
     "iopub.status.idle": "2025-06-26T18:23:16.458985Z",
     "shell.execute_reply": "2025-06-26T18:23:16.457985Z"
    },
    "papermill": {
     "duration": 3.961657,
     "end_time": "2025-06-26T18:23:16.460594",
     "exception": false,
     "start_time": "2025-06-26T18:23:12.498937",
     "status": "completed"
    },
    "tags": []
   },
   "outputs": [
    {
     "name": "stdout",
     "output_type": "stream",
     "text": [
      "/kaggle/input/student-habits-vs-academic-performance/student_habits_performance.csv\n"
     ]
    }
   ],
   "source": [
    "import numpy as np # linear algebra\n",
    "import pandas as pd # data processing, CSV file I/O (e.g. pd.read_csv)\n",
    "from pandasql import sqldf\n",
    "from IPython.display import display\n",
    "import plotly.express as px\n",
    "import plotly.graph_objects as go\n",
    "import plotly.graph_objects as go\n",
    "from plotly.offline import iplot\n",
    "from plotly.subplots import make_subplots\n",
    "from plotly.offline import init_notebook_mode, iplot\n",
    "\n",
    "import os\n",
    "for dirname, _, filenames in os.walk('/kaggle/input'):\n",
    "    for filename in filenames:\n",
    "        print(os.path.join(dirname, filename))"
   ]
  },
  {
   "cell_type": "code",
   "execution_count": 2,
   "id": "3cc526db",
   "metadata": {
    "execution": {
     "iopub.execute_input": "2025-06-26T18:23:16.467949Z",
     "iopub.status.busy": "2025-06-26T18:23:16.467477Z",
     "iopub.status.idle": "2025-06-26T18:23:16.499020Z",
     "shell.execute_reply": "2025-06-26T18:23:16.497969Z"
    },
    "papermill": {
     "duration": 0.036905,
     "end_time": "2025-06-26T18:23:16.500795",
     "exception": false,
     "start_time": "2025-06-26T18:23:16.463890",
     "status": "completed"
    },
    "tags": []
   },
   "outputs": [],
   "source": [
    "filepath= \"/kaggle/input/student-habits-vs-academic-performance/student_habits_performance.csv\"\n",
    "df = pd.read_csv(filepath)"
   ]
  },
  {
   "cell_type": "code",
   "execution_count": 3,
   "id": "25fd1055",
   "metadata": {
    "execution": {
     "iopub.execute_input": "2025-06-26T18:23:16.508048Z",
     "iopub.status.busy": "2025-06-26T18:23:16.507708Z",
     "iopub.status.idle": "2025-06-26T18:23:16.779003Z",
     "shell.execute_reply": "2025-06-26T18:23:16.778056Z"
    },
    "papermill": {
     "duration": 0.276828,
     "end_time": "2025-06-26T18:23:16.780700",
     "exception": false,
     "start_time": "2025-06-26T18:23:16.503872",
     "status": "completed"
    },
    "tags": []
   },
   "outputs": [
    {
     "data": {
      "text/html": [
       "        <script type=\"text/javascript\">\n",
       "        window.PlotlyConfig = {MathJaxConfig: 'local'};\n",
       "        if (window.MathJax && window.MathJax.Hub && window.MathJax.Hub.Config) {window.MathJax.Hub.Config({SVG: {font: \"STIX-Web\"}});}\n",
       "        if (typeof require !== 'undefined') {\n",
       "        require.undef(\"plotly\");\n",
       "        requirejs.config({\n",
       "            paths: {\n",
       "                'plotly': ['https://cdn.plot.ly/plotly-2.35.2.min']\n",
       "            }\n",
       "        });\n",
       "        require(['plotly'], function(Plotly) {\n",
       "            window._Plotly = Plotly;\n",
       "        });\n",
       "        }\n",
       "        </script>\n",
       "        "
      ]
     },
     "metadata": {},
     "output_type": "display_data"
    }
   ],
   "source": [
    "init_notebook_mode(connected=True)"
   ]
  },
  {
   "cell_type": "code",
   "execution_count": 4,
   "id": "3c772f57",
   "metadata": {
    "execution": {
     "iopub.execute_input": "2025-06-26T18:23:16.787752Z",
     "iopub.status.busy": "2025-06-26T18:23:16.787443Z",
     "iopub.status.idle": "2025-06-26T18:23:16.846036Z",
     "shell.execute_reply": "2025-06-26T18:23:16.844950Z"
    },
    "papermill": {
     "duration": 0.064051,
     "end_time": "2025-06-26T18:23:16.847807",
     "exception": false,
     "start_time": "2025-06-26T18:23:16.783756",
     "status": "completed"
    },
    "tags": []
   },
   "outputs": [
    {
     "name": "stdout",
     "output_type": "stream",
     "text": [
      "<class 'pandas.core.frame.DataFrame'>\n",
      "RangeIndex: 1000 entries, 0 to 999\n",
      "Data columns (total 16 columns):\n",
      " #   Column                         Non-Null Count  Dtype  \n",
      "---  ------                         --------------  -----  \n",
      " 0   student_id                     1000 non-null   object \n",
      " 1   age                            1000 non-null   int64  \n",
      " 2   gender                         1000 non-null   object \n",
      " 3   study_hours_per_day            1000 non-null   float64\n",
      " 4   social_media_hours             1000 non-null   float64\n",
      " 5   netflix_hours                  1000 non-null   float64\n",
      " 6   part_time_job                  1000 non-null   object \n",
      " 7   attendance_percentage          1000 non-null   float64\n",
      " 8   sleep_hours                    1000 non-null   float64\n",
      " 9   diet_quality                   1000 non-null   object \n",
      " 10  exercise_frequency             1000 non-null   int64  \n",
      " 11  parental_education_level       909 non-null    object \n",
      " 12  internet_quality               1000 non-null   object \n",
      " 13  mental_health_rating           1000 non-null   int64  \n",
      " 14  extracurricular_participation  1000 non-null   object \n",
      " 15  exam_score                     1000 non-null   float64\n",
      "dtypes: float64(6), int64(3), object(7)\n",
      "memory usage: 125.1+ KB\n",
      "None\n",
      "             age  study_hours_per_day  social_media_hours  netflix_hours  \\\n",
      "count  1000.0000           1000.00000         1000.000000    1000.000000   \n",
      "mean     20.4980              3.55010            2.505500       1.819700   \n",
      "std       2.3081              1.46889            1.172422       1.075118   \n",
      "min      17.0000              0.00000            0.000000       0.000000   \n",
      "25%      18.7500              2.60000            1.700000       1.000000   \n",
      "50%      20.0000              3.50000            2.500000       1.800000   \n",
      "75%      23.0000              4.50000            3.300000       2.525000   \n",
      "max      24.0000              8.30000            7.200000       5.400000   \n",
      "\n",
      "       attendance_percentage  sleep_hours  exercise_frequency  \\\n",
      "count            1000.000000  1000.000000         1000.000000   \n",
      "mean               84.131700     6.470100            3.042000   \n",
      "std                 9.399246     1.226377            2.025423   \n",
      "min                56.000000     3.200000            0.000000   \n",
      "25%                78.000000     5.600000            1.000000   \n",
      "50%                84.400000     6.500000            3.000000   \n",
      "75%                91.025000     7.300000            5.000000   \n",
      "max               100.000000    10.000000            6.000000   \n",
      "\n",
      "       mental_health_rating   exam_score  \n",
      "count           1000.000000  1000.000000  \n",
      "mean               5.438000    69.601500  \n",
      "std                2.847501    16.888564  \n",
      "min                1.000000    18.400000  \n",
      "25%                3.000000    58.475000  \n",
      "50%                5.000000    70.500000  \n",
      "75%                8.000000    81.325000  \n",
      "max               10.000000   100.000000  \n"
     ]
    }
   ],
   "source": [
    "print(df.info())\n",
    "print(df.describe())"
   ]
  },
  {
   "cell_type": "code",
   "execution_count": 5,
   "id": "8283dbe5",
   "metadata": {
    "execution": {
     "iopub.execute_input": "2025-06-26T18:23:16.855465Z",
     "iopub.status.busy": "2025-06-26T18:23:16.854775Z",
     "iopub.status.idle": "2025-06-26T18:23:18.748593Z",
     "shell.execute_reply": "2025-06-26T18:23:18.747322Z"
    },
    "papermill": {
     "duration": 1.899576,
     "end_time": "2025-06-26T18:23:18.750533",
     "exception": false,
     "start_time": "2025-06-26T18:23:16.850957",
     "status": "completed"
    },
    "tags": []
   },
   "outputs": [
    {
     "data": {
      "text/html": [
       "<iframe\n",
       "    scrolling=\"no\"\n",
       "    width=\"100%\"\n",
       "    height=\"520\"\n",
       "    src=\"iframe_figures/figure_5.html\"\n",
       "    frameborder=\"0\"\n",
       "    allowfullscreen\n",
       "></iframe>\n"
      ]
     },
     "metadata": {},
     "output_type": "display_data"
    }
   ],
   "source": [
    "# Histogram of exam scores\n",
    "fig = px.histogram(\n",
    "    df,\n",
    "    x='exam_score',\n",
    "    nbins=30,\n",
    "    title='Distribution of Exam Scores',\n",
    "    labels={'exam_score': 'Exam Score'},\n",
    "    height=500,\n",
    "    color_discrete_sequence=['#636EFA']\n",
    ")\n",
    "\n",
    "fig.update_layout(\n",
    "    xaxis_title='Exam Score',\n",
    "    yaxis_title='Number of Students',\n",
    "    bargap=0.1\n",
    ")\n",
    "\n",
    "fig.show(renderer='iframe')"
   ]
  },
  {
   "cell_type": "code",
   "execution_count": 6,
   "id": "13f41e58",
   "metadata": {
    "execution": {
     "iopub.execute_input": "2025-06-26T18:23:18.759952Z",
     "iopub.status.busy": "2025-06-26T18:23:18.759584Z",
     "iopub.status.idle": "2025-06-26T18:23:22.885776Z",
     "shell.execute_reply": "2025-06-26T18:23:22.884867Z"
    },
    "papermill": {
     "duration": 4.132989,
     "end_time": "2025-06-26T18:23:22.887522",
     "exception": false,
     "start_time": "2025-06-26T18:23:18.754533",
     "status": "completed"
    },
    "tags": []
   },
   "outputs": [
    {
     "data": {
      "text/html": [
       "<iframe\n",
       "    scrolling=\"no\"\n",
       "    width=\"100%\"\n",
       "    height=\"620\"\n",
       "    src=\"iframe_figures/figure_6.html\"\n",
       "    frameborder=\"0\"\n",
       "    allowfullscreen\n",
       "></iframe>\n"
      ]
     },
     "metadata": {},
     "output_type": "display_data"
    }
   ],
   "source": [
    "fig = px.scatter(\n",
    "    df,\n",
    "    x='study_hours_per_day',\n",
    "    y='exam_score',\n",
    "    color='gender',\n",
    "    title='Study Hours vs Exam Score by Gender',\n",
    "    labels={\n",
    "        'study_hours_per_day': 'Study Hours Per Day',\n",
    "        'exam_score': 'Exam Score',\n",
    "        'gender': 'Gender'\n",
    "    },\n",
    "    height=600,\n",
    "    trendline='lowess'\n",
    ")\n",
    "\n",
    "fig.update_layout(\n",
    "    xaxis_title='Study Hours Per Day',\n",
    "    yaxis_title='Exam Score'\n",
    ")\n",
    "\n",
    "fig.show(renderer='iframe')"
   ]
  },
  {
   "cell_type": "code",
   "execution_count": 7,
   "id": "65773c93",
   "metadata": {
    "execution": {
     "iopub.execute_input": "2025-06-26T18:23:22.895946Z",
     "iopub.status.busy": "2025-06-26T18:23:22.895322Z",
     "iopub.status.idle": "2025-06-26T18:23:22.985086Z",
     "shell.execute_reply": "2025-06-26T18:23:22.984134Z"
    },
    "papermill": {
     "duration": 0.095818,
     "end_time": "2025-06-26T18:23:22.986842",
     "exception": false,
     "start_time": "2025-06-26T18:23:22.891024",
     "status": "completed"
    },
    "tags": []
   },
   "outputs": [
    {
     "data": {
      "text/html": [
       "<iframe\n",
       "    scrolling=\"no\"\n",
       "    width=\"820px\"\n",
       "    height=\"820\"\n",
       "    src=\"iframe_figures/figure_7.html\"\n",
       "    frameborder=\"0\"\n",
       "    allowfullscreen\n",
       "></iframe>\n"
      ]
     },
     "metadata": {},
     "output_type": "display_data"
    }
   ],
   "source": [
    "# Calculate correlations\n",
    "corr = df.corr(numeric_only=True)\n",
    "\n",
    "fig = go.Figure(data=go.Heatmap(\n",
    "    z=corr.values,\n",
    "    x=corr.columns,\n",
    "    y=corr.columns,\n",
    "    colorscale='RdBu',\n",
    "    zmin=-1,\n",
    "    zmax=1,\n",
    "    colorbar=dict(title='Correlation')\n",
    "))\n",
    "\n",
    "fig.update_layout(\n",
    "    title='Correlation Matrix of Student Habits and Performance',\n",
    "    width=800,\n",
    "    height=800,\n",
    "    xaxis_showgrid=False,\n",
    "    yaxis_showgrid=False,\n",
    "    yaxis_autorange='reversed'\n",
    ")\n",
    "\n",
    "fig.show(renderer='iframe')"
   ]
  },
  {
   "cell_type": "code",
   "execution_count": 8,
   "id": "1651a746",
   "metadata": {
    "execution": {
     "iopub.execute_input": "2025-06-26T18:23:22.995328Z",
     "iopub.status.busy": "2025-06-26T18:23:22.994953Z",
     "iopub.status.idle": "2025-06-26T18:23:23.136019Z",
     "shell.execute_reply": "2025-06-26T18:23:23.135135Z"
    },
    "papermill": {
     "duration": 0.147101,
     "end_time": "2025-06-26T18:23:23.137630",
     "exception": false,
     "start_time": "2025-06-26T18:23:22.990529",
     "status": "completed"
    },
    "tags": []
   },
   "outputs": [
    {
     "data": {
      "text/html": [
       "<iframe\n",
       "    scrolling=\"no\"\n",
       "    width=\"100%\"\n",
       "    height=\"620\"\n",
       "    src=\"iframe_figures/figure_8.html\"\n",
       "    frameborder=\"0\"\n",
       "    allowfullscreen\n",
       "></iframe>\n"
      ]
     },
     "metadata": {},
     "output_type": "display_data"
    }
   ],
   "source": [
    "fig = px.box(\n",
    "    df,\n",
    "    x='sleep_hours',\n",
    "    y='exam_score',\n",
    "    title='Exam Score Distribution by Sleep Hours',\n",
    "    labels={\n",
    "        'sleep_hours': 'Sleep Hours',\n",
    "        'exam_score': 'Exam Score'\n",
    "    },\n",
    "    height=600\n",
    ")\n",
    "\n",
    "fig.update_layout(\n",
    "    xaxis_title='Sleep Hours',\n",
    "    yaxis_title='Exam Score',\n",
    "    boxmode='group'\n",
    ")\n",
    "\n",
    "fig.show(renderer='iframe')"
   ]
  },
  {
   "cell_type": "code",
   "execution_count": 9,
   "id": "5ae34723",
   "metadata": {
    "execution": {
     "iopub.execute_input": "2025-06-26T18:23:23.146964Z",
     "iopub.status.busy": "2025-06-26T18:23:23.146078Z",
     "iopub.status.idle": "2025-06-26T18:23:23.252845Z",
     "shell.execute_reply": "2025-06-26T18:23:23.251730Z"
    },
    "papermill": {
     "duration": 0.113013,
     "end_time": "2025-06-26T18:23:23.254528",
     "exception": false,
     "start_time": "2025-06-26T18:23:23.141515",
     "status": "completed"
    },
    "tags": []
   },
   "outputs": [
    {
     "data": {
      "text/html": [
       "<iframe\n",
       "    scrolling=\"no\"\n",
       "    width=\"100%\"\n",
       "    height=\"620\"\n",
       "    src=\"iframe_figures/figure_9.html\"\n",
       "    frameborder=\"0\"\n",
       "    allowfullscreen\n",
       "></iframe>\n"
      ]
     },
     "metadata": {},
     "output_type": "display_data"
    }
   ],
   "source": [
    "fig = px.box(\n",
    "    df,\n",
    "    x='parental_education_level',\n",
    "    y='exam_score',\n",
    "    color='gender',\n",
    "    title='Exam Scores by Parental Education Level and Gender',\n",
    "    labels={\n",
    "        'parental_education_level': 'Parental Education Level',\n",
    "        'exam_score': 'Exam Score',\n",
    "        'gender': 'Gender'\n",
    "    },\n",
    "    height=600\n",
    ")\n",
    "\n",
    "fig.update_layout(\n",
    "    xaxis_title='Parental Education Level',\n",
    "    yaxis_title='Exam Score',\n",
    "    boxmode='group'\n",
    ")\n",
    "\n",
    "fig.show(renderer='iframe')"
   ]
  },
  {
   "cell_type": "code",
   "execution_count": 10,
   "id": "879da129",
   "metadata": {
    "execution": {
     "iopub.execute_input": "2025-06-26T18:23:23.263323Z",
     "iopub.status.busy": "2025-06-26T18:23:23.262950Z",
     "iopub.status.idle": "2025-06-26T18:23:23.434765Z",
     "shell.execute_reply": "2025-06-26T18:23:23.433791Z"
    },
    "papermill": {
     "duration": 0.178025,
     "end_time": "2025-06-26T18:23:23.436325",
     "exception": false,
     "start_time": "2025-06-26T18:23:23.258300",
     "status": "completed"
    },
    "tags": []
   },
   "outputs": [
    {
     "data": {
      "text/html": [
       "<iframe\n",
       "    scrolling=\"no\"\n",
       "    width=\"100%\"\n",
       "    height=\"720\"\n",
       "    src=\"iframe_figures/figure_10.html\"\n",
       "    frameborder=\"0\"\n",
       "    allowfullscreen\n",
       "></iframe>\n"
      ]
     },
     "metadata": {},
     "output_type": "display_data"
    }
   ],
   "source": [
    "fig = px.scatter_3d(\n",
    "    df,\n",
    "    x='study_hours_per_day',\n",
    "    y='sleep_hours',\n",
    "    z='exam_score',\n",
    "    color='gender',\n",
    "    title='3D Relationship: Study Hours, Sleep Hours, and Exam Scores',\n",
    "    labels={\n",
    "        'study_hours_per_day': 'Study Hours',\n",
    "        'sleep_hours': 'Sleep Hours',\n",
    "        'exam_score': 'Exam Score',\n",
    "        'gender': 'Gender'\n",
    "    },\n",
    "    height=700\n",
    ")\n",
    "\n",
    "fig.update_layout(\n",
    "    scene=dict(\n",
    "        xaxis_title='Study Hours/Day',\n",
    "        yaxis_title='Sleep Hours',\n",
    "        zaxis_title='Exam Score'\n",
    "    )\n",
    ")\n",
    "\n",
    "fig.show(renderer='iframe')"
   ]
  },
  {
   "cell_type": "code",
   "execution_count": 11,
   "id": "8511ab91",
   "metadata": {
    "execution": {
     "iopub.execute_input": "2025-06-26T18:23:23.445072Z",
     "iopub.status.busy": "2025-06-26T18:23:23.444754Z",
     "iopub.status.idle": "2025-06-26T18:23:23.551036Z",
     "shell.execute_reply": "2025-06-26T18:23:23.550234Z"
    },
    "papermill": {
     "duration": 0.112547,
     "end_time": "2025-06-26T18:23:23.552751",
     "exception": false,
     "start_time": "2025-06-26T18:23:23.440204",
     "status": "completed"
    },
    "tags": []
   },
   "outputs": [
    {
     "data": {
      "text/html": [
       "<iframe\n",
       "    scrolling=\"no\"\n",
       "    width=\"100%\"\n",
       "    height=\"620\"\n",
       "    src=\"iframe_figures/figure_11.html\"\n",
       "    frameborder=\"0\"\n",
       "    allowfullscreen\n",
       "></iframe>\n"
      ]
     },
     "metadata": {},
     "output_type": "display_data"
    }
   ],
   "source": [
    "fig = px.scatter(\n",
    "    df,\n",
    "    x='mental_health_rating',\n",
    "    y='exam_score',\n",
    "    color='gender',\n",
    "    size='study_hours_per_day',\n",
    "    title='Mental Health Rating vs Exam Score',\n",
    "    labels={\n",
    "        'mental_health_rating': 'Mental Health Rating',\n",
    "        'exam_score': 'Exam Score',\n",
    "        'gender': 'Gender',\n",
    "        'study_hours_per_day': 'Study Hours'\n",
    "    },\n",
    "    height=600\n",
    ")\n",
    "\n",
    "fig.update_layout(\n",
    "    xaxis_title='Mental Health Rating',\n",
    "    yaxis_title='Exam Score'\n",
    ")\n",
    "\n",
    "fig.show(renderer='iframe')"
   ]
  },
  {
   "cell_type": "markdown",
   "id": "4fe8b5d9",
   "metadata": {
    "papermill": {
     "duration": 0.003247,
     "end_time": "2025-06-26T18:23:23.559750",
     "exception": false,
     "start_time": "2025-06-26T18:23:23.556503",
     "status": "completed"
    },
    "tags": []
   },
   "source": [
    "Key Insights:\n",
    "Study Hours: There's a positive correlation between study hours and exam scores, but with diminishing returns after about 4-5 hours per day.\n",
    "\n",
    "Sleep: Students who get 7-8 hours of sleep tend to perform better than those who sleep less or more.\n",
    "\n",
    "Entertainment: Excessive social media and Netflix usage (more than 2-3 hours daily) shows negative correlation with exam scores.\n",
    "\n",
    "Parental Education: Higher parental education levels are associated with better student performance.\n",
    "\n",
    "Health Factors: Better diet, regular exercise, and good mental health ratings correlate with higher exam scores.\n",
    "\n",
    "Gender Differences: This analysis revealed some gender-based patterns in study habits and performance."
   ]
  }
 ],
 "metadata": {
  "kaggle": {
   "accelerator": "none",
   "dataSources": [
    {
     "datasetId": 7122663,
     "sourceId": 11376681,
     "sourceType": "datasetVersion"
    }
   ],
   "dockerImageVersionId": 31040,
   "isGpuEnabled": false,
   "isInternetEnabled": false,
   "language": "python",
   "sourceType": "notebook"
  },
  "kernelspec": {
   "display_name": "Python 3",
   "language": "python",
   "name": "python3"
  },
  "language_info": {
   "codemirror_mode": {
    "name": "ipython",
    "version": 3
   },
   "file_extension": ".py",
   "mimetype": "text/x-python",
   "name": "python",
   "nbconvert_exporter": "python",
   "pygments_lexer": "ipython3",
   "version": "3.11.11"
  },
  "papermill": {
   "default_parameters": {},
   "duration": 17.23501,
   "end_time": "2025-06-26T18:23:24.484693",
   "environment_variables": {},
   "exception": null,
   "input_path": "__notebook__.ipynb",
   "output_path": "__notebook__.ipynb",
   "parameters": {},
   "start_time": "2025-06-26T18:23:07.249683",
   "version": "2.6.0"
  }
 },
 "nbformat": 4,
 "nbformat_minor": 5
}
